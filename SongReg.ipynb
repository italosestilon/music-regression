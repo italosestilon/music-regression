{
 "cells": [
  {
   "cell_type": "code",
   "execution_count": 62,
   "metadata": {
    "collapsed": true
   },
   "outputs": [],
   "source": [
    "import matplotlib.pyplot as plt\n",
    "import numpy as np\n",
    "import pandas as pd\n",
    "\n",
    "from sklearn import linear_model\n",
    "from sklearn.model_selection import train_test_split\n",
    "from sklearn.metrics import mean_squared_error, r2_score, mean_absolute_error\n",
    "from sklearn.preprocessing import StandardScaler\n",
    "from sklearn.feature_selection import VarianceThreshold\n",
    "from sklearn.ensemble import ExtraTreesClassifier\n",
    "from sklearn.feature_selection import f_regression, mutual_info_regression\n",
    "from sklearn.preprocessing import PolynomialFeatures\n",
    "from sklearn.decomposition import PCA\n",
    "from sklearn.model_selection import KFold\n",
    "from sklearn.feature_selection import SelectFromModel\n",
    "\n",
    "from SGDRegressor import SGDRegressor\n",
    "\n",
    "\n",
    "%matplotlib inline"
   ]
  },
  {
   "cell_type": "code",
   "execution_count": 3,
   "metadata": {
    "collapsed": true
   },
   "outputs": [],
   "source": [
    "\n",
    "def load_data(path):\n",
    "\treturn pd.read_csv(path, header=None)\n",
    "\n",
    "data = load_data('year-prediction-msd-train.txt')\n",
    "\n",
    "data  = np.asarray(data)\n",
    "\n",
    "Y = data[:,0]\n",
    "X = data[:,1:]"
   ]
  },
  {
   "cell_type": "code",
   "execution_count": 75,
   "metadata": {
    "collapsed": true
   },
   "outputs": [],
   "source": [
    "def normalize(X):\n",
    "    Xc = X - X.min(axis=0)\n",
    "    Xc /= Xc.max(axis=0)\n",
    "    return Xc\n",
    "\n",
    "def scale(X):\n",
    "    scaler = StandardScaler()\n",
    "    scaler.fit(X)\n",
    "    return scaler.transform(X)\n",
    "\n",
    "def pca(X, n):\n",
    "    pca = PCA(n_components=n)\n",
    "    return pca.fit_transform(X)\n",
    "\n",
    "def mir(X, Y):\n",
    "    mi = mutual_info_regression(X, Y)\n",
    "    mi_sort = sorted(mi, reverse=True)\n",
    "    mi_index_sort = np.argsort(mi)[::-1]\n",
    "    mi = np.asarray(mi_sort)\n",
    "    \n",
    "    return mi\n",
    "\n",
    "def index_to_remove(mi, treshold):\n",
    "    return np.where(mi < treshold)[0]\n",
    "    \n",
    "\n",
    "def remove_features(X, features):\n",
    "    return np.delete(X, features, axis=1)\n",
    "\n",
    "\n",
    "def cross_validation(X, Y, max_iter=50, batch_size=20, n_splits=5, learning_rate=0.001):\n",
    "    cv = KFold(n_splits=n_splits)\n",
    "    scores = list()\n",
    "    best_model = None\n",
    "    less_erro = 100000000000000000000000\n",
    "    for train, test in cv.split(X, Y):\n",
    "        sgd = SGDRegressor(learning_rate, max_iter, batch_size)\n",
    "        sgd.fit(X[train], Y[train])\n",
    "        y_pred = sgd.predict(X[test])\n",
    "        error = np.sqrt(mean_squared_error(Y[test], y_pred))\n",
    "        scores.append(error)\n",
    "        \n",
    "        if error < less_error:\n",
    "            less_error = error\n",
    "            best_model = sgd\n",
    "        \n",
    "    return scores\n",
    "\n",
    "def variance(X, threshold):\n",
    "    selector = VarianceThreshold(threshold = threshold)\n",
    "    return selector.fit_transform(X)\n",
    "\n",
    "def tree(X, Y):\n",
    "    clf = ExtraTreesClassifier()\n",
    "    clf = clf.fit(X, Y)\n",
    "    model = SelectFromModel(clf, prefit=True)\n",
    "    return model.transform(X)"
   ]
  },
  {
   "cell_type": "code",
   "execution_count": 4,
   "metadata": {
    "collapsed": true
   },
   "outputs": [],
   "source": [
    "X_scaled = scale(X)\n",
    "X_train_scaled, X_test_scaled, Y_train, Y_test = train_test_split(X_scaled, Y, test_size=0.2, random_state=0)\n",
    "\n",
    "X_pca = pca(X, 0.95)\n",
    "\n",
    "X_normalize = normalize(X)"
   ]
  },
  {
   "cell_type": "code",
   "execution_count": 26,
   "metadata": {},
   "outputs": [],
   "source": [
    "mi = mir(X, Y)"
   ]
  },
  {
   "cell_type": "code",
   "execution_count": 31,
   "metadata": {},
   "outputs": [],
   "source": [
    "indexes_to_remove = index_to_remove(mi, 0.009)\n",
    "X_mir = remove_features(scale(X), indexes_to_remove)"
   ]
  },
  {
   "cell_type": "code",
   "execution_count": 71,
   "metadata": {},
   "outputs": [],
   "source": [
    "X_tree = tree(X_scaled, Y)"
   ]
  },
  {
   "cell_type": "code",
   "execution_count": 72,
   "metadata": {},
   "outputs": [
    {
     "name": "stdout",
     "output_type": "stream",
     "text": [
      "(111452, 36)\n"
     ]
    }
   ],
   "source": [
    "print(X_tree.shape)"
   ]
  },
  {
   "cell_type": "code",
   "execution_count": 80,
   "metadata": {
    "collapsed": true
   },
   "outputs": [],
   "source": [
    "#Normal Equation\n",
    "def normal_equation(X, Y, X_test, Y_test):\n",
    "    regression = linear_model.LinearRegression()\n",
    "\n",
    "    regression.fit(X, Y)\n",
    "\n",
    "    y_pred = regression.predict(X_test)\n",
    "\n",
    "    print(\"R@: %.2f \"%r2_score(Y_test, y_pred))\n",
    "    print(\"MSE %.2f \"%mean_squared_error(Y_test, y_pred))\n",
    "    print(\"RMSE %.2f \"%np.sqrt(mean_squared_error(Y_test, y_pred)))\n",
    "    "
   ]
  },
  {
   "cell_type": "code",
   "execution_count": null,
   "metadata": {
    "collapsed": true
   },
   "outputs": [],
   "source": []
  },
  {
   "cell_type": "code",
   "execution_count": 37,
   "metadata": {
    "collapsed": true
   },
   "outputs": [],
   "source": [
    "#SGD\n",
    "def SGD(X, Y, X_test, Y_test):\n",
    "    sgd = SGDRegressor(learning_rate=0.001, max_iter=200, batch_size=20)\n",
    "    \n",
    "    sgd.fit(X, Y)\n",
    "    y_pred = sgd.predict(X_test)\n",
    "    \n",
    "    print(\"R@: %.2f \"%r2_score(Y_test, y_pred))\n",
    "    print(\"MSE %.2f \"% mean_squared_error(Y_test, y_pred))\n",
    "    print(\"RMSE %.2f \"% np.sqrt(mean_squared_error(Y_test, y_pred)))"
   ]
  },
  {
   "cell_type": "code",
   "execution_count": 83,
   "metadata": {
    "collapsed": true
   },
   "outputs": [],
   "source": [
    "def SGD_cross_validation(X, Y, max_iter=50, batch_size=20, n_splits=5, learning_rate=0.001):\n",
    "    scores, best_model = cross_validation(X, Y, max_iter=max_iter, batch_size=batch_size, n_splits=n_split, learning_rate=learning_rate)\n",
    "    print(\"Error \", np.asarray(scores).mean())\n",
    "    return best_model"
   ]
  },
  {
   "cell_type": "code",
   "execution_count": 97,
   "metadata": {
    "collapsed": true
   },
   "outputs": [],
   "source": [
    "def polymonial_regression(X, Y):\n",
    "    \n",
    "    X_train, X_test, Y_train, Y_test = train_test_split(X, Y, test_size=0.2, random_state=0)\n",
    "    \n",
    "    poly_features = PolynomialFeatures(degree=2, include_bias=False)\n",
    "    X_train_poly = poly_features.fit_transform(X_train)\n",
    "\n",
    "    X_test_poly =  poly_features.fit_transform(X_test)\n",
    "    \n",
    "    sgd = SGDRegressor(learning_rate=0.001, max_iter=100, batch_size=20)\n",
    "    sgd.fit(X_train_poly, Y_train)\n",
    "\n",
    "    y_pred = sgd.predict(X_test_poly)\n",
    "    \n",
    "    print(\"R@: %.2f \"%r2_score(Y_test, y_pred))\n",
    "    print(\"MSE %.2f \"% mean_squared_error(Y_test, y_pred))\n",
    "    print(\"RMSE %.2f \"% np.sqrt(mean_squared_error(Y_test, y_pred)))"
   ]
  },
  {
   "cell_type": "code",
   "execution_count": 36,
   "metadata": {},
   "outputs": [
    {
     "name": "stdout",
     "output_type": "stream",
     "text": [
      "epocha 0\n",
      "epocha 1\n",
      "epocha 2\n",
      "epocha 3\n",
      "epocha 4\n",
      "epocha 5\n",
      "epocha 6\n",
      "epocha 7\n",
      "epocha 8\n",
      "epocha 9\n",
      "epocha 10\n",
      "epocha 11\n",
      "epocha 12\n",
      "epocha 13\n",
      "epocha 14\n",
      "epocha 15\n",
      "epocha 16\n",
      "epocha 17\n",
      "epocha 18\n",
      "epocha 19\n",
      "epocha 20\n",
      "epocha 21\n",
      "epocha 22\n",
      "epocha 23\n",
      "epocha 24\n",
      "epocha 25\n",
      "epocha 26\n",
      "epocha 27\n",
      "epocha 28\n",
      "epocha 29\n",
      "epocha 30\n",
      "epocha 31\n",
      "epocha 32\n",
      "epocha 33\n",
      "epocha 34\n",
      "epocha 35\n",
      "epocha 36\n",
      "epocha 37\n",
      "epocha 38\n",
      "epocha 39\n",
      "epocha 40\n",
      "epocha 41\n",
      "epocha 42\n",
      "epocha 43\n",
      "epocha 44\n",
      "epocha 45\n",
      "epocha 46\n",
      "epocha 47\n",
      "epocha 48\n",
      "epocha 49\n",
      "R@: 0.11 \n",
      "MSE 104.08 \n",
      "RMSE 10.20 \n"
     ]
    }
   ],
   "source": [
    "#Baseline\n",
    "SGD(X_train_scaled, Y_train, X_test_scaled, Y_test)"
   ]
  },
  {
   "cell_type": "code",
   "execution_count": null,
   "metadata": {
    "collapsed": true
   },
   "outputs": [],
   "source": [
    "#Cross validation\n",
    "SGD_cross_validation(X_scaled, Y)"
   ]
  },
  {
   "cell_type": "code",
   "execution_count": 82,
   "metadata": {},
   "outputs": [
    {
     "name": "stdout",
     "output_type": "stream",
     "text": [
      "R@: 0.19 \n",
      "MSE 94.70 \n",
      "RMSE 9.73 \n",
      "epocha 0\n",
      "epocha 1\n",
      "epocha 2\n",
      "epocha 3\n",
      "epocha 4\n",
      "epocha 5\n",
      "epocha 6\n",
      "epocha 7\n",
      "epocha 8\n",
      "epocha 9\n",
      "epocha 10\n",
      "epocha 11\n",
      "epocha 12\n",
      "epocha 13\n",
      "epocha 14\n",
      "epocha 15\n",
      "epocha 16\n",
      "epocha 17\n",
      "epocha 18\n",
      "epocha 19\n",
      "epocha 20\n",
      "epocha 21\n",
      "epocha 22\n",
      "epocha 23\n",
      "epocha 24\n",
      "epocha 25\n",
      "epocha 26\n",
      "epocha 27\n",
      "epocha 28\n",
      "epocha 29\n",
      "epocha 30\n",
      "epocha 31\n",
      "epocha 32\n",
      "epocha 33\n",
      "epocha 34\n",
      "epocha 35\n",
      "epocha 36\n",
      "epocha 37\n",
      "epocha 38\n",
      "epocha 39\n",
      "epocha 40\n",
      "epocha 41\n",
      "epocha 42\n",
      "epocha 43\n",
      "epocha 44\n",
      "epocha 45\n",
      "epocha 46\n",
      "epocha 47\n",
      "epocha 48\n",
      "epocha 49\n",
      "epocha 50\n",
      "epocha 51\n",
      "epocha 52\n",
      "epocha 53\n",
      "epocha 54\n",
      "epocha 55\n",
      "epocha 56\n",
      "epocha 57\n",
      "epocha 58\n",
      "epocha 59\n",
      "epocha 60\n",
      "epocha 61\n",
      "epocha 62\n",
      "epocha 63\n",
      "epocha 64\n",
      "epocha 65\n",
      "epocha 66\n",
      "epocha 67\n",
      "epocha 68\n",
      "epocha 69\n",
      "epocha 70\n",
      "epocha 71\n",
      "epocha 72\n",
      "epocha 73\n",
      "epocha 74\n",
      "epocha 75\n",
      "epocha 76\n",
      "epocha 77\n",
      "epocha 78\n",
      "epocha 79\n",
      "epocha 80\n",
      "epocha 81\n",
      "epocha 82\n",
      "epocha 83\n",
      "epocha 84\n",
      "epocha 85\n",
      "epocha 86\n",
      "epocha 87\n",
      "epocha 88\n",
      "epocha 89\n",
      "epocha 90\n",
      "epocha 91\n",
      "epocha 92\n",
      "epocha 93\n",
      "epocha 94\n",
      "epocha 95\n",
      "epocha 96\n",
      "epocha 97\n",
      "epocha 98\n",
      "epocha 99\n",
      "epocha 100\n",
      "epocha 101\n",
      "epocha 102\n",
      "epocha 103\n",
      "epocha 104\n",
      "epocha 105\n",
      "epocha 106\n",
      "epocha 107\n",
      "epocha 108\n",
      "epocha 109\n",
      "epocha 110\n",
      "epocha 111\n",
      "epocha 112\n",
      "epocha 113\n",
      "epocha 114\n",
      "epocha 115\n",
      "epocha 116\n",
      "epocha 117\n",
      "epocha 118\n",
      "epocha 119\n",
      "epocha 120\n",
      "epocha 121\n",
      "epocha 122\n",
      "epocha 123\n",
      "epocha 124\n",
      "epocha 125\n",
      "epocha 126\n",
      "epocha 127\n",
      "epocha 128\n",
      "epocha 129\n",
      "epocha 130\n",
      "epocha 131\n",
      "epocha 132\n",
      "epocha 133\n",
      "epocha 134\n",
      "epocha 135\n",
      "epocha 136\n",
      "epocha 137\n",
      "epocha 138\n",
      "epocha 139\n",
      "epocha 140\n",
      "epocha 141\n",
      "epocha 142\n",
      "epocha 143\n",
      "epocha 144\n",
      "epocha 145\n",
      "epocha 146\n",
      "epocha 147\n",
      "epocha 148\n",
      "epocha 149\n",
      "epocha 150\n",
      "epocha 151\n",
      "epocha 152\n",
      "epocha 153\n",
      "epocha 154\n",
      "epocha 155\n",
      "epocha 156\n",
      "epocha 157\n",
      "epocha 158\n",
      "epocha 159\n",
      "epocha 160\n",
      "epocha 161\n",
      "epocha 162\n",
      "epocha 163\n",
      "epocha 164\n",
      "epocha 165\n",
      "epocha 166\n",
      "epocha 167\n",
      "epocha 168\n",
      "epocha 169\n",
      "epocha 170\n",
      "epocha 171\n",
      "epocha 172\n",
      "epocha 173\n",
      "epocha 174\n",
      "epocha 175\n",
      "epocha 176\n",
      "epocha 177\n",
      "epocha 178\n",
      "epocha 179\n",
      "epocha 180\n",
      "epocha 181\n",
      "epocha 182\n",
      "epocha 183\n",
      "epocha 184\n",
      "epocha 185\n",
      "epocha 186\n",
      "epocha 187\n",
      "epocha 188\n",
      "epocha 189\n",
      "epocha 190\n",
      "epocha 191\n",
      "epocha 192\n",
      "epocha 193\n",
      "epocha 194\n",
      "epocha 195\n",
      "epocha 196\n",
      "epocha 197\n",
      "epocha 198\n",
      "epocha 199\n",
      "R@: 0.19 \n",
      "MSE 95.73 \n",
      "RMSE 9.78 \n"
     ]
    }
   ],
   "source": [
    "#Normal equation\n",
    "X_train_n, X_test_n, Y_train_n, Y_test_n = train_test_split(X_tree, Y, test_size=0.2, random_state=0)\n",
    "normal_equation(X_train_n, Y_train_n, X_test_n, Y_test_n)\n",
    "\n",
    "SGD(X_train_n, Y_train_n, X_test_n, Y_test_n)"
   ]
  },
  {
   "cell_type": "code",
   "execution_count": 95,
   "metadata": {
    "scrolled": false
   },
   "outputs": [
    {
     "name": "stdout",
     "output_type": "stream",
     "text": [
      "(111452, 55)\n",
      "R@: 0.25 \n",
      "MSE 87.81 \n",
      "RMSE 9.37 \n",
      "R@: -181844494456940633522176.00 \n",
      "MSE 21381116265307558515834880.00 \n",
      "RMSE 4623971914415.96 \n"
     ]
    }
   ],
   "source": [
    "#Polynomial regression\n",
    "x_pca_poly = pca(X_scaled, 0.9)\n",
    "print(x_pca_poly.shape)\n",
    "polymonial_regression(X_tree, Y)"
   ]
  },
  {
   "cell_type": "code",
   "execution_count": null,
   "metadata": {
    "collapsed": true
   },
   "outputs": [],
   "source": [
    "#Cross validation with PCA\n",
    "SGD_cross_validation(X_pca_scaled, Y)"
   ]
  },
  {
   "cell_type": "code",
   "execution_count": null,
   "metadata": {
    "collapsed": true
   },
   "outputs": [],
   "source": [
    "#Cross validation with MIR\n",
    "SGD_cross_validation(X_pca_scaled, Y)"
   ]
  }
 ],
 "metadata": {
  "kernelspec": {
   "display_name": "Python 3",
   "language": "python",
   "name": "python3"
  },
  "language_info": {
   "codemirror_mode": {
    "name": "ipython",
    "version": 3
   },
   "file_extension": ".py",
   "mimetype": "text/x-python",
   "name": "python",
   "nbconvert_exporter": "python",
   "pygments_lexer": "ipython3",
   "version": "3.5.2"
  }
 },
 "nbformat": 4,
 "nbformat_minor": 2
}
